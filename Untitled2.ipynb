{
 "cells": [
  {
   "cell_type": "code",
   "execution_count": 38,
   "metadata": {},
   "outputs": [],
   "source": [
    "import sys\n",
    "import import_ipynb\n",
    "import csv\n",
    "import torch.nn\n",
    "from tqdm import tqdm_notebook as tqdm\n",
    "from collections import Counter\n",
    "import matplotlib.pyplot as plt\n",
    "import numpy as np\n",
    "import matplotlib.pyplot as plt\n",
    "import pandas as pd\n",
    "import math\n",
    "import glob\n",
    "import tensorflow\n",
    "import keras"
   ]
  },
  {
   "cell_type": "code",
   "execution_count": 39,
   "metadata": {
    "scrolled": false
   },
   "outputs": [],
   "source": [
    "from keras.models import Sequential\n",
    "from keras.layers import Dense, Input, LSTM, Dropout\n",
    "from sklearn import preprocessing\n",
    "from sklearn.preprocessing import MinMaxScaler\n",
    "from sklearn.metrics import mean_squared_error\n",
    "from math import sqrt\n",
    "from numpy import concatenate\n",
    "from matplotlib import pyplot\n",
    "from pandas import read_csv\n",
    "from pandas import DataFrame\n",
    "from pandas import concat\n",
    "from sklearn.preprocessing import MinMaxScaler\n",
    "from sklearn.preprocessing import LabelEncoder\n",
    "from sklearn.metrics import mean_squared_error\n",
    "from keras.models import Sequential\n",
    "from keras.layers import Dense\n",
    "from keras.layers import LSTM"
   ]
  },
  {
   "cell_type": "code",
   "execution_count": 200,
   "metadata": {},
   "outputs": [],
   "source": [
    "import csv \n",
    "import sys\n",
    "FILE='LADATA'\n",
    "f=open(FILE)\n",
    "out=[]\n",
    "for line in f:\n",
    "    \n",
    "    \n",
    "    #line=line.rstrip(\"/n\")\n",
    "    templist=line.split(\",\")\n",
    "    \n",
    "    out.append(templist)"
   ]
  },
  {
   "cell_type": "code",
   "execution_count": 202,
   "metadata": {},
   "outputs": [
    {
     "data": {
      "text/plain": [
       "[['LANL Hardware/Systems/Software Failure Data LA-UR-05-7318  dates mid 1996 to mid 2005',\n",
       "  '',\n",
       "  '',\n",
       "  '',\n",
       "  '',\n",
       "  '',\n",
       "  '',\n",
       "  '',\n",
       "  '',\n",
       "  '',\n",
       "  '',\n",
       "  '',\n",
       "  '',\n",
       "  '',\n",
       "  '',\n",
       "  '',\n",
       "  '',\n",
       "  '',\n",
       "  '',\n",
       "  '',\n",
       "  '',\n",
       "  '',\n",
       "  '',\n",
       "  '',\n",
       "  '',\n",
       "  '\\n'],\n",
       " ['System',\n",
       "  'machine type',\n",
       "  'nodes',\n",
       "  'procstot',\n",
       "  'procsinnode',\n",
       "  'nodenum',\n",
       "  'nodenumz',\n",
       "  'node install',\n",
       "  'node prod',\n",
       "  'node decom',\n",
       "  'fru type',\n",
       "  'mem',\n",
       "  'cputype',\n",
       "  'memtype',\n",
       "  'num intercon',\n",
       "  'purpose',\n",
       "  'Prob Started (mm/dd/yy hh:mm)',\n",
       "  'Prob Fixed (mm/dd/yy hh:mm)',\n",
       "  'Down Time',\n",
       "  'Facilities',\n",
       "  'Hardware',\n",
       "  'Human Error',\n",
       "  'Network',\n",
       "  'Undetermined',\n",
       "  'Software',\n",
       "  'Same Event\\n'],\n",
       " ['2',\n",
       "  'cluster',\n",
       "  '49',\n",
       "  '6152',\n",
       "  '80',\n",
       "  '0',\n",
       "  '0',\n",
       "  '5-Apr',\n",
       "  '5-Jun',\n",
       "  'current',\n",
       "  'part',\n",
       "  '80',\n",
       "  '1',\n",
       "  '1',\n",
       "  '0',\n",
       "  'graphics.fe',\n",
       "  '6/21/2005 10:54',\n",
       "  '6/21/2005 11:00',\n",
       "  '6',\n",
       "  '',\n",
       "  'Graphics Accel Hdwr',\n",
       "  '',\n",
       "  '',\n",
       "  '',\n",
       "  '',\n",
       "  'No\\n']]"
      ]
     },
     "execution_count": 202,
     "metadata": {},
     "output_type": "execute_result"
    }
   ],
   "source": [
    "data=[X for X in out if X]\n",
    "data[0:3]"
   ]
  },
  {
   "cell_type": "code",
   "execution_count": 195,
   "metadata": {},
   "outputs": [],
   "source": [
    "for i in range(len(data)):\n",
    "    data[i][-1]=str(data[i][-1])[:-2]"
   ]
  },
  {
   "cell_type": "code",
   "execution_count": 196,
   "metadata": {},
   "outputs": [],
   "source": [
    "data=[X for X in data if len(X)!=1]\n",
    "data=[X for X in data if X[1]=='2']"
   ]
  },
  {
   "cell_type": "code",
   "execution_count": 197,
   "metadata": {},
   "outputs": [],
   "source": [
    "A=int(data[0][0])\n",
    "for i in range(len(data)):\n",
    "    data[i][0]=int(data[i][0])-A\n",
    "    "
   ]
  },
  {
   "cell_type": "code",
   "execution_count": 198,
   "metadata": {},
   "outputs": [],
   "source": [
    "for i in range(len(data)):\n",
    "    data[i]=[data[i][0],data[i][12]]"
   ]
  },
  {
   "cell_type": "code",
   "execution_count": 199,
   "metadata": {},
   "outputs": [],
   "source": [
    "myFile = open('wacky', 'w')\n",
    "#s=[\"LANL Hardware/Systems/Software Failure Data LA-UR-05-7318  dates mid 1996 to mid 2005,,,,,,,,,,,,,,,,,,,,,,,,,System,machine type,nodes,procstot,procsinnode,nodenum,nodenumz,node install,node prod,node decom,fru type,mem,cputype,memtype,num intercon,purpose,Prob Started (mm/dd/yy hh:mm),Prob Fixed (mm/dd/yy hh:mm),Down Time,Facilities,Hardware,Human Error,Network,Undetermined,Software,Same Event\"]\n",
    "#data=s+data\n",
    "with myFile:\n",
    "    for i in data:\n",
    "        myFile.write(' '.join(str(e) for e in i))\n",
    "        myFile.write(\"\\n\")"
   ]
  },
  {
   "cell_type": "code",
   "execution_count": 112,
   "metadata": {},
   "outputs": [],
   "source": [
    "str1 = ','.join(str(e) for e in data[0])"
   ]
  },
  {
   "cell_type": "code",
   "execution_count": 79,
   "metadata": {},
   "outputs": [
    {
     "data": {
      "text/plain": [
       "'0,8,99108117115116101114,164,328,2,1,1,4,4,1,99111109112117116101'"
      ]
     },
     "execution_count": 79,
     "metadata": {},
     "output_type": "execute_result"
    }
   ],
   "source": []
  },
  {
   "cell_type": "code",
   "execution_count": null,
   "metadata": {},
   "outputs": [],
   "source": []
  }
 ],
 "metadata": {
  "kernelspec": {
   "display_name": "Python 3",
   "language": "python",
   "name": "python3"
  },
  "language_info": {
   "codemirror_mode": {
    "name": "ipython",
    "version": 3
   },
   "file_extension": ".py",
   "mimetype": "text/x-python",
   "name": "python",
   "nbconvert_exporter": "python",
   "pygments_lexer": "ipython3",
   "version": "3.7.3"
  }
 },
 "nbformat": 4,
 "nbformat_minor": 2
}
