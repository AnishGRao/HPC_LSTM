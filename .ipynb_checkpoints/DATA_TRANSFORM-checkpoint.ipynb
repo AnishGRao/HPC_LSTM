{
 "cells": [
  {
   "cell_type": "code",
   "execution_count": null,
   "metadata": {},
   "outputs": [],
   "source": [
    "f=open(\"LSTM_DATA\")\n",
    "out=[]\n",
    "INFO=[]\n",
    "for line in f:\n",
    "    templist=line.split(\",\")\n",
    "    A= templist[0:6]\n",
    "    B=[templist[10],templist[11],templist[12],templist[13],templist[14],templist[15],templist[16],templist[19],templist[20],templist[21],templist[22],templist[23],templist[24]]\n",
    "    B[1:1]=A\n",
    "    INFO.append(B)\n",
    "    "
   ]
  },
  {
   "cell_type": "code",
   "execution_count": 436,
   "metadata": {},
   "outputs": [
    {
     "data": {
      "text/plain": [
       "[2066,\n",
       " '7',\n",
       " 'smp',\n",
       " '1',\n",
       " '8',\n",
       " '8',\n",
       " '0',\n",
       " '16',\n",
       " '3',\n",
       " '3',\n",
       " '0',\n",
       " 'compute',\n",
       " 'part',\n",
       " '',\n",
       " '',\n",
       " '',\n",
       " '',\n",
       " '',\n",
       " '']"
      ]
     },
     "execution_count": 436,
     "metadata": {},
     "output_type": "execute_result"
    }
   ],
   "source": [
    "INFO[1]"
   ]
  },
  {
   "cell_type": "code",
   "execution_count": 413,
   "metadata": {},
   "outputs": [],
   "source": [
    "import sys\n",
    "import numpy as np\n",
    "data=INFO\n",
    "\n",
    "DIM=[0,31,28,31,30,31,30,31,31,30,31,30,31]#days in each month\n",
    "data=INFO\n",
    "for I in range(len(data)):\n",
    "    D_T=data[I][12]\n",
    "    date=D_T.split()\n",
    "    day=date[0].split(\"/\")#day is just d/m/y\n",
    "    day[0]=int(day[0])*DIM[int(day[0])]#mult month by num of days in month\n",
    "    day[2]=365*int(day[2])#years to days\n",
    "    day=day[0]+int(day[1])+day[2]#all in days\n",
    "    time=date[1].split(\":\")\n",
    "    time[0]=int(time[0])*60\n",
    "    time=int(time[1])+time[0]#time in minutes\n",
    "    day=day*24*60#days in minutesa\n",
    "    data[I][12]=day+time\n",
    "#data.sort(key=lambda x:x[0])"
   ]
  },
  {
   "cell_type": "code",
   "execution_count": 414,
   "metadata": {},
   "outputs": [],
   "source": [
    "data.sort(key=lambda x:x[12])\n",
    "center=data[0][12]\n",
    "for time in range(len(data)):\n",
    "    data[time][12]=data[time][12]-center"
   ]
  },
  {
   "cell_type": "code",
   "execution_count": 406,
   "metadata": {},
   "outputs": [],
   "source": [
    "def is_number(s):\n",
    "    try:\n",
    "        float(s)\n",
    "        return True\n",
    "    except ValueError:\n",
    "        pass\n",
    " \n",
    "    try:\n",
    "        import unicodedata\n",
    "        unicodedata.numeric(s)\n",
    "        return True\n",
    "    except (TypeError, ValueError):\n",
    "        pass\n",
    " \n",
    "    return False"
   ]
  },
  {
   "cell_type": "code",
   "execution_count": 433,
   "metadata": {},
   "outputs": [
    {
     "ename": "SyntaxError",
     "evalue": "invalid syntax (<ipython-input-433-d1e51a134837>, line 1)",
     "output_type": "error",
     "traceback": [
      "\u001b[1;36m  File \u001b[1;32m\"<ipython-input-433-d1e51a134837>\"\u001b[1;36m, line \u001b[1;32m1\u001b[0m\n\u001b[1;33m    global errors=[]\u001b[0m\n\u001b[1;37m                 ^\u001b[0m\n\u001b[1;31mSyntaxError\u001b[0m\u001b[1;31m:\u001b[0m invalid syntax\n"
     ]
    }
   ],
   "source": [
    "errors=[]\n",
    "for array in range(len(data)):\n",
    "    word=\"\"\n",
    "    for element in range(len(data[array])): \n",
    "        if element<13:\n",
    "            continue\n",
    "        elif len(data[array][element])>len(word):\n",
    "            word=data[array][element]\n",
    "    errors.append(word)\n",
    "for i in range(len(data)):\n",
    "    data[i][0],data[i][12]=data[i][12],data[i][0]"
   ]
  },
  {
   "cell_type": "code",
   "execution_count": 422,
   "metadata": {},
   "outputs": [],
   "source": [
    "#f=open('SORTED_DATA_NO_STRINGS','w')\n",
    "import csv\n",
    "with open(\"testful\",\"w\") as my_csv:\n",
    "    csvWriter = csv.writer(my_csv,delimiter=',')\n",
    "    csvWriter.writerows(data)"
   ]
  },
  {
   "cell_type": "code",
   "execution_count": 428,
   "metadata": {},
   "outputs": [],
   "source": [
    "def lmao():\n",
    "    return errors"
   ]
  },
  {
   "cell_type": "code",
   "execution_count": 431,
   "metadata": {},
   "outputs": [],
   "source": [
    "a=lmao"
   ]
  },
  {
   "cell_type": "code",
   "execution_count": 432,
   "metadata": {},
   "outputs": [
    {
     "data": {
      "text/plain": [
       "<function __main__.lmao()>"
      ]
     },
     "execution_count": 432,
     "metadata": {},
     "output_type": "execute_result"
    }
   ],
   "source": []
  },
  {
   "cell_type": "code",
   "execution_count": null,
   "metadata": {},
   "outputs": [],
   "source": []
  },
  {
   "cell_type": "code",
   "execution_count": null,
   "metadata": {},
   "outputs": [],
   "source": []
  }
 ],
 "metadata": {
  "kernelspec": {
   "display_name": "Python 3",
   "language": "python",
   "name": "python3"
  },
  "language_info": {
   "codemirror_mode": {
    "name": "ipython",
    "version": 3
   },
   "file_extension": ".py",
   "mimetype": "text/x-python",
   "name": "python",
   "nbconvert_exporter": "python",
   "pygments_lexer": "ipython3",
   "version": "3.7.6"
  }
 },
 "nbformat": 4,
 "nbformat_minor": 2
}
