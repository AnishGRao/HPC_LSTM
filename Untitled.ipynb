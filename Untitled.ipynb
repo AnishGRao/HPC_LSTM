{
 "cells": [
  {
   "cell_type": "raw",
   "metadata": {},
   "source": [
    "PREDICTOR=LSTM()\n",
    "\n",
    "while Supercomputer.is_running() is TRUE:\n",
    "    if PREDICTOR.ERROR() is TRUE:\n",
    "        Faulty_Computer=PREDICTOR.faulty_computer()\n",
    "        Copy all processess and data from Faulty_Computer\n",
    "        Redistribute processes and data to other nodes"
   ]
  }
 ],
 "metadata": {
  "kernelspec": {
   "display_name": "Python 3",
   "language": "python",
   "name": "python3"
  },
  "language_info": {
   "codemirror_mode": {
    "name": "ipython",
    "version": 3
   },
   "file_extension": ".py",
   "mimetype": "text/x-python",
   "name": "python",
   "nbconvert_exporter": "python",
   "pygments_lexer": "ipython3",
   "version": "3.7.3"
  }
 },
 "nbformat": 4,
 "nbformat_minor": 2
}
